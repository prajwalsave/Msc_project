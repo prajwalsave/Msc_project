{
 "cells": [
  {
   "cell_type": "code",
   "execution_count": 6,
   "id": "c2e4fa64",
   "metadata": {},
   "outputs": [
    {
     "name": "stdout",
     "output_type": "stream",
     "text": [
      "ROOT_DIR: C:\\glasgow-carbon-map\\Main_project\n",
      "DATA_DIR: C:\\glasgow-carbon-map\\Main_project\\public\\data\n",
      "OUT_DIR : C:\\glasgow-carbon-map\\Main_project\\analysis\\outputs\n",
      "g1_air_quality_animated.json OK - C:\\glasgow-carbon-map\\Main_project\\public\\data\\g1_air_quality_animated.json\n",
      "zone_traffic_aggregated.json OK - C:\\glasgow-carbon-map\\Main_project\\public\\data\\zone_traffic_aggregated.json\n"
     ]
    }
   ],
   "source": [
    "from pathlib import Path\n",
    "import os\n",
    "\n",
    "def find_project_root(max_up=8):\n",
    "    \"\"\"Walk up until we see a Vite/Cesium project root (public/ + package.json).\"\"\"\n",
    "    p = Path.cwd().resolve()\n",
    "    for _ in range(max_up+1):\n",
    "        if (p / \"public\").exists() and (p / \"package.json\").exists():\n",
    "            return p\n",
    "        p = p.parent\n",
    "    raise FileNotFoundError(f\"Could not find project root from {Path.cwd()}\")\n",
    "\n",
    "ROOT_DIR = find_project_root()\n",
    "DATA_DIR = ROOT_DIR / \"public\" / \"data\"\n",
    "OUT_DIR  = ROOT_DIR / \"analysis\" / \"outputs\"\n",
    "OUT_DIR.mkdir(parents=True, exist_ok=True)\n",
    "\n",
    "print(\"ROOT_DIR:\", ROOT_DIR)\n",
    "print(\"DATA_DIR:\", DATA_DIR)\n",
    "print(\"OUT_DIR :\", OUT_DIR)\n",
    "\n",
    "# Sanity: list data files you’ll use\n",
    "for name in [\"g1_air_quality_animated.json\", \"zone_traffic_aggregated.json\"]:\n",
    "    fp = DATA_DIR / name\n",
    "    print(name, \"OK\" if fp.exists() else \"MISSING\", \"-\", fp)\n"
   ]
  },
  {
   "cell_type": "code",
   "execution_count": 7,
   "id": "90a3f1e0",
   "metadata": {},
   "outputs": [
    {
     "name": "stdout",
     "output_type": "stream",
     "text": [
      "Hours in window: 1571\n",
      "AQ coverage: {'no2': 1.0, 'pm25': 0.968, 'o3': 0.992, 'pm10': 0.969}\n",
      "Traffic G1 coverage: 1.0\n"
     ]
    },
    {
     "name": "stderr",
     "output_type": "stream",
     "text": [
      "C:\\Users\\Prajw\\AppData\\Local\\Temp\\ipykernel_28884\\453220425.py:21: FutureWarning: 'H' is deprecated and will be removed in a future version, please use 'h' instead.\n",
      "  print(\"Hours in window:\", len(pd.date_range(START, END, freq=\"H\")))\n"
     ]
    }
   ],
   "source": [
    "import json, pandas as pd, numpy as np\n",
    "\n",
    "# Analysis window (G1 only)\n",
    "START = pd.Timestamp(\"2023-05-08 00:00:00\")\n",
    "END   = pd.Timestamp(\"2023-07-12 10:00:00\")\n",
    "\n",
    "aq_path = DATA_DIR / \"g1_air_quality_animated.json\"\n",
    "tr_path = DATA_DIR / \"zone_traffic_aggregated.json\"\n",
    "\n",
    "# Air quality (G1)\n",
    "aq = pd.DataFrame.from_dict(json.loads(aq_path.read_text()), orient=\"index\")\n",
    "aq.index = pd.to_datetime(aq.index)\n",
    "aq = aq.sort_index().loc[START:END]\n",
    "\n",
    "# Traffic (keep G1 column)\n",
    "tr_all = pd.DataFrame.from_dict(json.loads(tr_path.read_text()), orient=\"index\")\n",
    "tr_all.index = pd.to_datetime(tr_all.index)\n",
    "tr_all = tr_all.sort_index().loc[START:END]\n",
    "tr_g1 = tr_all[\"G1\"].astype(float)\n",
    "\n",
    "print(\"Hours in window:\", len(pd.date_range(START, END, freq=\"H\")))\n",
    "print(\"AQ coverage:\", aq.notna().mean().round(3).to_dict())\n",
    "print(\"Traffic G1 coverage:\", float(tr_g1.notna().mean().round(3)))\n"
   ]
  },
  {
   "cell_type": "code",
   "execution_count": 8,
   "id": "80e03647",
   "metadata": {},
   "outputs": [
    {
     "data": {
      "text/html": [
       "<div>\n",
       "<style scoped>\n",
       "    .dataframe tbody tr th:only-of-type {\n",
       "        vertical-align: middle;\n",
       "    }\n",
       "\n",
       "    .dataframe tbody tr th {\n",
       "        vertical-align: top;\n",
       "    }\n",
       "\n",
       "    .dataframe thead th {\n",
       "        text-align: right;\n",
       "    }\n",
       "</style>\n",
       "<table border=\"1\" class=\"dataframe\">\n",
       "  <thead>\n",
       "    <tr style=\"text-align: right;\">\n",
       "      <th></th>\n",
       "      <th>zone</th>\n",
       "      <th>metric</th>\n",
       "      <th>best_r</th>\n",
       "      <th>best_lag_h</th>\n",
       "      <th>direction</th>\n",
       "      <th>n</th>\n",
       "      <th>ci_low</th>\n",
       "      <th>ci_high</th>\n",
       "    </tr>\n",
       "  </thead>\n",
       "  <tbody>\n",
       "    <tr>\n",
       "      <th>0</th>\n",
       "      <td>G1</td>\n",
       "      <td>NO2</td>\n",
       "      <td>0.190</td>\n",
       "      <td>-14</td>\n",
       "      <td>AQ leads</td>\n",
       "      <td>939</td>\n",
       "      <td>0.128</td>\n",
       "      <td>0.251</td>\n",
       "    </tr>\n",
       "    <tr>\n",
       "      <th>1</th>\n",
       "      <td>G1</td>\n",
       "      <td>PM25</td>\n",
       "      <td>-0.049</td>\n",
       "      <td>-9</td>\n",
       "      <td>AQ leads</td>\n",
       "      <td>908</td>\n",
       "      <td>-0.114</td>\n",
       "      <td>0.016</td>\n",
       "    </tr>\n",
       "    <tr>\n",
       "      <th>2</th>\n",
       "      <td>G1</td>\n",
       "      <td>PM10</td>\n",
       "      <td>0.048</td>\n",
       "      <td>20</td>\n",
       "      <td>AQ lags</td>\n",
       "      <td>897</td>\n",
       "      <td>-0.017</td>\n",
       "      <td>0.114</td>\n",
       "    </tr>\n",
       "    <tr>\n",
       "      <th>3</th>\n",
       "      <td>G1</td>\n",
       "      <td>O3</td>\n",
       "      <td>-0.398</td>\n",
       "      <td>-18</td>\n",
       "      <td>AQ leads</td>\n",
       "      <td>931</td>\n",
       "      <td>-0.450</td>\n",
       "      <td>-0.342</td>\n",
       "    </tr>\n",
       "  </tbody>\n",
       "</table>\n",
       "</div>"
      ],
      "text/plain": [
       "  zone metric  best_r  best_lag_h direction    n  ci_low  ci_high\n",
       "0   G1    NO2   0.190         -14  AQ leads  939   0.128    0.251\n",
       "1   G1   PM25  -0.049          -9  AQ leads  908  -0.114    0.016\n",
       "2   G1   PM10   0.048          20   AQ lags  897  -0.017    0.114\n",
       "3   G1     O3  -0.398         -18  AQ leads  931  -0.450   -0.342"
      ]
     },
     "execution_count": 8,
     "metadata": {},
     "output_type": "execute_result"
    }
   ],
   "source": [
    "MAX_LAG = 24\n",
    "MIN_N   = 12\n",
    "\n",
    "def pearson_r(x, y):\n",
    "    x = np.asarray(x); y = np.asarray(y)\n",
    "    if len(x) < 2: return np.nan, len(x)\n",
    "    xc, yc = x - x.mean(), y - y.mean()\n",
    "    denom = np.sqrt((xc**2).sum() * (yc**2).sum())\n",
    "    if denom == 0: return np.nan, len(x)\n",
    "    return float((xc * yc).sum() / denom), len(x)\n",
    "\n",
    "def r_ci(r, n):\n",
    "    if not np.isfinite(r) or n < 4: return (np.nan, np.nan)\n",
    "    z = np.arctanh(r); se = 1/np.sqrt(n-3)\n",
    "    return float(np.tanh(z - 1.96*se)), float(np.tanh(z + 1.96*se))\n",
    "\n",
    "results, lag_curves = [], {}\n",
    "\n",
    "for metric in [\"no2\",\"pm25\",\"pm10\",\"o3\"]:\n",
    "    s_aq = aq[metric].astype(float)\n",
    "    s_tr = tr_g1\n",
    "\n",
    "    rows = []\n",
    "    for lag in range(-MAX_LAG, MAX_LAG+1):\n",
    "        # positive lag: AQ lags traffic\n",
    "        A = s_aq.shift(lag) if lag > 0 else s_aq\n",
    "        T = s_tr if lag > 0 else s_tr.shift(-lag)  # AQ leads when lag<0\n",
    "        df = pd.concat([A, T], axis=1, keys=[\"aq\",\"tr\"]).dropna()\n",
    "        if len(df) >= MIN_N:\n",
    "            r, n = pearson_r(df[\"aq\"].values, df[\"tr\"].values)\n",
    "        else:\n",
    "            r, n = (np.nan, len(df))\n",
    "        rows.append({\"lag_h\": lag, \"r\": r, \"n\": n})\n",
    "\n",
    "    lc = pd.DataFrame(rows)\n",
    "    lag_curves[metric] = lc\n",
    "\n",
    "    best = lc.loc[lc[\"r\"].abs().idxmax()]\n",
    "    r_best, lag_best, n_best = float(best.r), int(best.lag_h), int(best.n)\n",
    "    lo, hi = r_ci(r_best, n_best)\n",
    "\n",
    "    results.append({\n",
    "        \"zone\": \"G1\",\n",
    "        \"metric\": metric.upper(),\n",
    "        \"best_r\": round(r_best,3),\n",
    "        \"best_lag_h\": lag_best,\n",
    "        \"direction\": \"AQ lags\" if lag_best>0 else (\"AQ leads\" if lag_best<0 else \"simult.\"),\n",
    "        \"n\": n_best,\n",
    "        \"ci_low\": round(lo,3),\n",
    "        \"ci_high\": round(hi,3)\n",
    "    })\n",
    "\n",
    "res = pd.DataFrame(results)\n",
    "res.to_csv(OUT_DIR / \"g1_corr_summary.csv\", index=False)\n",
    "res\n"
   ]
  },
  {
   "cell_type": "code",
   "execution_count": 9,
   "id": "97192484",
   "metadata": {},
   "outputs": [
    {
     "name": "stdout",
     "output_type": "stream",
     "text": [
      "Saved: C:\\glasgow-carbon-map\\Main_project\\analysis\\outputs\\g1_corr_summary.csv\n",
      "and lag–r PNGs: [WindowsPath('C:/glasgow-carbon-map/Main_project/analysis/outputs/g1_no2_lag_scan.png'), WindowsPath('C:/glasgow-carbon-map/Main_project/analysis/outputs/g1_o3_lag_scan.png'), WindowsPath('C:/glasgow-carbon-map/Main_project/analysis/outputs/g1_pm10_lag_scan.png'), WindowsPath('C:/glasgow-carbon-map/Main_project/analysis/outputs/g1_pm25_lag_scan.png')]\n"
     ]
    }
   ],
   "source": [
    "import matplotlib.pyplot as plt\n",
    "\n",
    "for m, lc in lag_curves.items():\n",
    "    plt.figure(figsize=(6,3))\n",
    "    plt.axhline(0, lw=1, color=\"k\", alpha=.35)\n",
    "    plt.plot(lc[\"lag_h\"], lc[\"r\"], marker=\"o\", ms=3)\n",
    "    plt.title(f\"G1 – {m.upper()} vs Traffic (lag scan ±24 h)\")\n",
    "    plt.xlabel(\"Lag (hours)  [positive = AQ lags]\")\n",
    "    plt.ylabel(\"Pearson r\")\n",
    "    plt.tight_layout()\n",
    "    plt.savefig(OUT_DIR / f\"g1_{m}_lag_scan.png\", dpi=160)\n",
    "    plt.close()\n",
    "\n",
    "print(\"Saved:\", OUT_DIR / \"g1_corr_summary.csv\")\n",
    "print(\"and lag–r PNGs:\", list((OUT_DIR).glob(\"g1_*_lag_scan.png\")))\n"
   ]
  },
  {
   "cell_type": "code",
   "execution_count": 10,
   "id": "98a7c14a",
   "metadata": {},
   "outputs": [
    {
     "data": {
      "text/plain": [
       "count    1545.000000\n",
       "mean      108.746888\n",
       "std        59.700745\n",
       "min         8.002500\n",
       "25%        51.652500\n",
       "50%       115.308750\n",
       "75%       159.080000\n",
       "max       262.385000\n",
       "Name: G1, dtype: float64"
      ]
     },
     "execution_count": 10,
     "metadata": {},
     "output_type": "execute_result"
    }
   ],
   "source": [
    "# Baseline (mirror your app defaults; adjust if your panel uses different values)\n",
    "shares = dict(car=0.78, lgv=0.14, hgv=0.05, bus=0.03)   # auto-normalised\n",
    "ef     = dict(car=0.18, lgv=0.25, hgv=0.85, bus=0.82)   # kg CO2 per km\n",
    "d_g1   = 0.5  # km per vehicle in G1\n",
    "\n",
    "def eff_ef(sh, ef):\n",
    "    s = sum(sh.values()); shn = {k:v/s for k,v in sh.items()}\n",
    "    return sum(shn[k]*ef[k] for k in shn)\n",
    "\n",
    "EFeff = eff_ef(shares, ef)\n",
    "co2_hourly = tr_g1 * EFeff * d_g1  # kg CO2/h\n",
    "co2_hourly.describe()\n"
   ]
  },
  {
   "cell_type": "code",
   "execution_count": 11,
   "id": "35d4552a",
   "metadata": {},
   "outputs": [
    {
     "name": "stdout",
     "output_type": "stream",
     "text": [
      "Saved: C:\\glasgow-carbon-map\\Main_project\\analysis\\outputs\\g1_emissions_sensitivity.png\n"
     ]
    }
   ],
   "source": [
    "scenarios = [\n",
    "    (\"Baseline\", shares, d_g1),\n",
    "    (\"HGV +5pp\", {**shares, \"hgv\": shares[\"hgv\"]+0.05, \"car\": shares[\"car\"]-0.05}, d_g1),\n",
    "    (\"HGV -3pp\", {**shares, \"hgv\": max(0, shares[\"hgv\"]-0.03), \"car\": shares[\"car\"]+0.03}, d_g1),\n",
    "    (\"d +0.2 km\", shares, d_g1+0.2),\n",
    "    (\"d -0.2 km\", shares, max(0.1, d_g1-0.2)),\n",
    "]\n",
    "\n",
    "bars=[]\n",
    "for name,sh,d in scenarios:\n",
    "    total_tonnes = float((tr_g1 * eff_ef(sh,ef) * d).sum())/1000.0\n",
    "    bars.append((name, total_tonnes))\n",
    "\n",
    "labels, tonnes = zip(*bars)\n",
    "plt.figure(figsize=(6,3))\n",
    "plt.bar(labels, tonnes)\n",
    "plt.ylabel(\"Total CO₂ (tonnes) – G1, 2023-05-08→07-12\")\n",
    "plt.xticks(rotation=15)\n",
    "plt.tight_layout()\n",
    "plt.savefig(OUT_DIR / \"g1_emissions_sensitivity.png\", dpi=160)\n",
    "plt.close()\n",
    "\n",
    "print(\"Saved:\", OUT_DIR / \"g1_emissions_sensitivity.png\")\n"
   ]
  }
 ],
 "metadata": {
  "kernelspec": {
   "display_name": "Python 3",
   "language": "python",
   "name": "python3"
  },
  "language_info": {
   "codemirror_mode": {
    "name": "ipython",
    "version": 3
   },
   "file_extension": ".py",
   "mimetype": "text/x-python",
   "name": "python",
   "nbconvert_exporter": "python",
   "pygments_lexer": "ipython3",
   "version": "3.13.2"
  }
 },
 "nbformat": 4,
 "nbformat_minor": 5
}
